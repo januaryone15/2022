{
  "nbformat": 4,
  "nbformat_minor": 0,
  "metadata": {
    "colab": {
      "name": "5-6주차 프로젝트.ipynb",
      "provenance": [],
      "collapsed_sections": [],
      "authorship_tag": "ABX9TyNNWxhIUfKGfD0QcJPlkLTL",
      "include_colab_link": true
    },
    "kernelspec": {
      "name": "python3",
      "display_name": "Python 3"
    },
    "language_info": {
      "name": "python"
    }
  },
  "cells": [
    {
      "cell_type": "markdown",
      "metadata": {
        "id": "view-in-github",
        "colab_type": "text"
      },
      "source": [
        "<a href=\"https://colab.research.google.com/github/januaryone15/2022/blob/main/5_6%EC%A3%BC%EC%B0%A8_%ED%94%84%EB%A1%9C%EC%A0%9D%ED%8A%B8.ipynb\" target=\"_parent\"><img src=\"https://colab.research.google.com/assets/colab-badge.svg\" alt=\"Open In Colab\"/></a>"
      ]
    },
    {
      "cell_type": "markdown",
      "source": [
        "5-6주차 프로젝트: 영어교과운영 프로그램 만들기\n",
        "1. 우리반 단어시험 1,2회 결과 조회프로그램 제작하기\n",
        "2. 영어교과 수행평가 결과 그래프로 나타내기\n",
        "3. 영어교과 보상 프로그램"
      ],
      "metadata": {
        "id": "dqJzHBRSVfi1"
      }
    },
    {
      "cell_type": "code",
      "execution_count": null,
      "metadata": {
        "id": "Ty8OnqAuRrD_"
      },
      "outputs": [],
      "source": [
        "#우리반 명단 업로드\n",
        "from google.colab import files\n",
        "files.upload()"
      ]
    },
    {
      "cell_type": "code",
      "source": [
        "!apt-get install fonts-nanum -qq > /dev/message # 한글설치 !트폰\n",
        "!fc-cache -fv\n",
        "import matplotlib as mpl\n",
        "mpl.font_manager ._rebuild()\n",
        "findfont = mpl.font_manager.fontManager.findfont\n",
        "mpl.font_manager.findfont = findfont\n",
        "mpl.backends.backend_agg.findfont = findfont"
      ],
      "metadata": {
        "id": "s6Q01_ZgVUbA"
      },
      "execution_count": null,
      "outputs": []
    },
    {
      "cell_type": "code",
      "source": [
        "#1. 우리반 단어시험 1,2회 결과 조회 프로그램 나타내기\n",
        "import time\n",
        "import csv\n",
        "data = csv.reader(open('우리반 명단.csv',encoding='cp949'))\n",
        "next(data)\n",
        "score_1 = []\n",
        "score_2 = []\n",
        "\n",
        "#단어시험결과 조회\n",
        "name = input('단어시험 결과 확인을 위해 자신의 이름을 입력해주세요: ')\n",
        "for row in data :\n",
        "  if name in row[1] :\n",
        "    for i in range(6,7) :\n",
        "      score_1.append(int(row[6]))\n",
        "      score_2.append(int(row[7]))\n",
        "    break\n",
        "\n",
        "#단어시험 결과 산출\n",
        "print(name+'님의 1회 단어시험 점수는' + str(score_1) + '점 입니다.')\n",
        "time.sleep(2.5)\n",
        "print(name+'님의 2회 단어시험 점수는' + str(score_2) + '점 입니다.')\n",
        "time.sleep(2)\n",
        "\n",
        "if int(row[6]) +int(row[7]) > 18 :\n",
        "  print('축하합니다!! 도장을 1개 받아가세요.')\n",
        "else :\n",
        "  print('틀린 문제를 고쳐오면, 도장을 1개 받을 수 있습니다. Cheer up!')"
      ],
      "metadata": {
        "colab": {
          "base_uri": "https://localhost:8080/"
        },
        "id": "NJO1OmwYV-7C",
        "outputId": "9f49ea3d-ca53-49ff-dc26-156e25a91854"
      },
      "execution_count": null,
      "outputs": [
        {
          "output_type": "stream",
          "name": "stdout",
          "text": [
            "단어시험 결과 확인을 위해 자신의 이름을 입력해주세요: 강재현\n",
            "강재현님의 1회 단어시험 점수는[1]점 입니다.\n",
            "강재현님의 2회 단어시험 점수는[2]점 입니다.\n",
            "틀린 문제를 고쳐오면, 도장을 1개 받을 수 있습니다. Cheer up!\n"
          ]
        }
      ]
    },
    {
      "cell_type": "code",
      "source": [
        "#수행평가 결과 그래프로 나타내기\n",
        "#영역 입력하기\n",
        "#영역에 따른 결과 불러오기\n",
        "# 막대그래프로 잘함 보통 노력 요함 나타내기\n",
        "import time\n",
        "import csv\n",
        "data = csv.reader(open('우리반 명단.csv',encoding='cp949'))\n",
        "next(data)\n",
        "\n",
        "#우리반의 영어 수행평가 결과, 잘함, 보통, 노력 요함은 각각 얼마나 있을까? 교사용 그래프 나타내기\n",
        "#듣기, 말하기, 읽기, 쓰기 영역 리스트 만들기\n",
        "l = []\n",
        "s = []\n",
        "r = []\n",
        "w = []\n",
        "for row in data :\n",
        "  l.append(row[2])\n",
        "  s.append(row[3])\n",
        "  r.append(row[4])\n",
        "  w.append(row[5])\n",
        "\n",
        "#영역 입력하기\n",
        "subject = input('듣기,말하기,읽기,쓰기 중 어떤 영역의 영어 수행평가 결과를 확인하시겠습니까?')\n",
        "if subject == '듣기' :\n",
        "  k = [l.count(str('잘함')), l.count(str('보통')), l.count(str('노력요함'))]\n",
        "\n",
        "if subject == '말하기' :\n",
        "  k = [s.count(str('잘함')), s.count(str('보통')), s.count(str('노력요함'))]\n",
        "\n",
        "if subject == '읽기' :\n",
        "   k = [r.count(str('잘함')), r.count(str('보통')), r.count(str('노력요함'))]\n",
        "\n",
        "if subject == '쓰기' :\n",
        "   k = [w.count(str('잘함')), w.count(str('보통')), w.count(str('노력요함'))] \n",
        "\n",
        "#막대 그래프로 나타내기\n",
        "print(subject+'영역의 영어 수행평가 결과를 막대 그래프로 나타냅니다.')\n",
        "time.sleep(2)\n",
        "import matplotlib.pyplot as plt\n",
        "plt.rc('font', family = 'NanumGothic')\n",
        "plt.rcParams['axes.unicode_minus'] = False\n",
        "plt.bar(['잘함','보통','노력요함'], k, color = ['pink', 'green', 'black'], \n",
        "        width =0.5)\n",
        "plt.title(subject+'영역 영어 수행평가 결과')\n",
        "plt.show()"
      ],
      "metadata": {
        "id": "lrt8Ua1UexjG",
        "colab": {
          "base_uri": "https://localhost:8080/",
          "height": 317
        },
        "outputId": "364236ab-cd4b-43e6-8a0b-c11036ac7f09"
      },
      "execution_count": null,
      "outputs": [
        {
          "output_type": "stream",
          "name": "stdout",
          "text": [
            "듣기,말하기,읽기,쓰기 중 어떤 영역의 영어 수행평가 결과를 확인하시겠습니까?말하기\n",
            "말하기영역의 영어 수행평가 결과를 막대 그래프로 나타냅니다.\n"
          ]
        },
        {
          "output_type": "display_data",
          "data": {
            "text/plain": [
              "<Figure size 432x288 with 1 Axes>"
            ],
            "image/png": "[encoded data removed]"
          },
          "metadata": {
            "needs_background": "light"
          }
        }
      ]
    },
    {
      "cell_type": "code",
      "source": [
        "#영어 보상 프로그램\n",
        "import csv\n",
        "data = csv.reader(open('우리반 명단.csv',encoding='cp949'))\n",
        "next(data)\n",
        "\n",
        "names = []\n",
        "for row in data:\n",
        "  names.append(row[1])\n",
        "\n",
        "#보상 받을 사람 추첨하기\n",
        "import time\n",
        "import random\n",
        "print('오늘은 드디어 ★Prize day★입니다.')\n",
        "time.sleep(2)\n",
        "print('오늘의 주인공은 누구일까요?')\n",
        "time.sleep(1.5)\n",
        "print('바로!!!')\n",
        "time.sleep(4)\n",
        "print(random.choice(names)+'!!!')\n",
        "time.sleep(1)\n",
        "#보상 선택하기\n",
        "print('┏━━━━━━━━━━━━━━━━━━━━━┓')\n",
        "print('┃             Prize    Menu                ┃')\n",
        "print('┃    menu                  point(s)        ┃')\n",
        "print('┃    eraser                   1            ┃')\n",
        "print('┃    pen                      2            ┃')\n",
        "print('┃    notebook                 3            ┃')\n",
        "print('┃    doll                     4            ┃')\n",
        "print('┃    jelly                    5            ┃')\n",
        "print('┗━━━━━━━━━━━━━━━━━━━━━┛')\n",
        "menu = {'eraser':1, 'pen':2, 'notebook':3, 'doll':4, 'jelly':5} \n",
        "time.sleep(2)\n",
        "item = input('원하는 prize는 무엇입니까?')\n",
        "time.sleep(1)\n",
        "\n",
        "#선택한 prize와 자신이 가지고 있던 point 비교하기\n",
        "print('선택한 '+ str(item) + '은(는) ' + str(menu[item]) + 'point(s)가 필요합니다.')\n",
        "time.sleep(3)\n",
        "my_point = input('현재 몇 point를 가지고 있습니까?')\n",
        "if int(my_point) > int(menu[item]) :\n",
        "  print('축하합니다. 여기, ' + str(item) + '입니다.')\n",
        "else :\n",
        "  print(str(int(menu[item]) - int(my_point)) + 'point(s) 부족합니다. 포인트를 더 모아오세요. ')"
      ],
      "metadata": {
        "id": "nmgbr8jXghii",
        "colab": {
          "base_uri": "https://localhost:8080/"
        },
        "outputId": "b5624cd2-8962-45ac-d829-cdc8f200a004"
      },
      "execution_count": null,
      "outputs": [
        {
          "output_type": "stream",
          "name": "stdout",
          "text": [
            "오늘은 드디어 ★Prize day★입니다.\n",
            "오늘의 주인공은 누구일까요?\n",
            "바로!!!\n",
            "조명원!!!\n",
            "┏━━━━━━━━━━━━━━━━━━━━━┓\n",
            "┃             Prize    Menu                ┃\n",
            "┃    menu                  point(s)        ┃\n",
            "┃    eraser                   1            ┃\n",
            "┃    pen                      2            ┃\n",
            "┃    notebook                 3            ┃\n",
            "┃    doll                     4            ┃\n",
            "┃    jelly                    5            ┃\n",
            "┗━━━━━━━━━━━━━━━━━━━━━┛\n",
            "원하는 prize는 무엇입니까?jelly\n",
            "선택한 jelly은(는) 5point(s)가 필요합니다.\n",
            "현재 몇 point를 가지고 있습니까?10\n",
            "축하합니다. 여기, jelly입니다.\n"
          ]
        }
      ]
    }
  ]
}